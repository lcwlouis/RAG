{
 "cells": [
  {
   "cell_type": "markdown",
   "id": "3990f831",
   "metadata": {},
   "source": [
    "# Base RAG Project\n",
    "This is a simple implementation of Retrieval-Augmented Generation (RAG) using LangChain with ChromaDB. Tests will be conducted using Gemini models for generation and Ollama for embedding."
   ]
  },
  {
   "cell_type": "code",
   "execution_count": 1,
   "id": "74d125f4",
   "metadata": {},
   "outputs": [],
   "source": [
    "import os\n",
    "from dotenv import load_dotenv\n",
    "\n",
    "# Load environment variables from .env file\n",
    "load_dotenv()\n",
    "os.environ[\"GOOGLE_API_KEY\"] = os.getenv(\"GOOGLE_API_KEY\")"
   ]
  },
  {
   "cell_type": "markdown",
   "id": "632896fa",
   "metadata": {},
   "source": [
    "Now we set up langchain for google gemini models and ollama for embeddings."
   ]
  },
  {
   "cell_type": "code",
   "execution_count": 2,
   "id": "3757fc2a",
   "metadata": {},
   "outputs": [],
   "source": [
    "from langchain.chat_models import init_chat_model\n",
    "\n",
    "llm = init_chat_model(\n",
    "    \"gemini-2.5-flash-lite\", \n",
    "    model_provider=\"google_genai\",\n",
    ")\n",
    "\n",
    "from langchain_ollama import OllamaEmbeddings\n",
    "\n",
    "embeddings = OllamaEmbeddings(\n",
    "    model=\"mxbai-embed-large:latest\",\n",
    ")"
   ]
  },
  {
   "cell_type": "markdown",
   "id": "3fc12964",
   "metadata": {},
   "source": [
    "Now we init ChromaDB for storing and retrieving documents and vectors."
   ]
  },
  {
   "cell_type": "code",
   "execution_count": 47,
   "id": "07a71a54",
   "metadata": {},
   "outputs": [],
   "source": [
    "from langchain_chroma import Chroma\n",
    "\n",
    "vector_store = Chroma(\n",
    "    collection_name=\"test_collection\",\n",
    "    embedding_function=embeddings,\n",
    "    persist_directory=\"./chroma_db\",\n",
    ")\n"
   ]
  },
  {
   "cell_type": "markdown",
   "id": "694daf34",
   "metadata": {},
   "source": [
    "## Ingestion\n",
    "Now we test ingesting a document."
   ]
  },
  {
   "cell_type": "code",
   "execution_count": 48,
   "id": "168c5c2a",
   "metadata": {},
   "outputs": [],
   "source": [
    "from langchain_core.prompts import ChatPromptTemplate\n",
    "from langchain_community.document_loaders import TextLoader\n",
    "from langchain_core.documents import Document\n",
    "from langchain_text_splitters import RecursiveCharacterTextSplitter\n",
    "from langgraph.graph import START, StateGraph\n",
    "from typing_extensions import List, TypedDict"
   ]
  },
  {
   "cell_type": "markdown",
   "id": "71ec14b4",
   "metadata": {},
   "source": [
    "ONLY RUN THE FOLLOWING ONCE"
   ]
  },
  {
   "cell_type": "code",
   "execution_count": null,
   "id": "38d85e09",
   "metadata": {},
   "outputs": [],
   "source": [
    "# Loading and splitting the document\n",
    "loader = TextLoader(\n",
    "    file_path=\"./texts/Alice's Adventures in Wonderland.txt\",\n",
    "    autodetect_encoding=True\n",
    "    )\n",
    "\n",
    "docs = loader.load()\n",
    "\n",
    "text_splitter = RecursiveCharacterTextSplitter(\n",
    "    chunk_size=1000,\n",
    "    chunk_overlap=200,\n",
    ")\n",
    "\n",
    "all_splits = text_splitter.split_documents(docs)\n",
    "\n",
    "# Indexing the chunks into the vector store\n",
    "_ = vector_store.add_documents(documents=all_splits)"
   ]
  },
  {
   "cell_type": "code",
   "execution_count": 7,
   "id": "e7d48868",
   "metadata": {},
   "outputs": [],
   "source": [
    "prompt = ChatPromptTemplate(\n",
    "    [\"system\", \"\"\"You are a helpful assistant.\n",
    "You will be given a question and a context.\n",
    "Your task is to answer the question based on the context provided.\n",
    "If the context does not contain enough information to answer the question, say \"I don't know\".\n",
    "Question: {question}\n",
    "Context: {context}\n",
    "Answer:\"\"\"],\n",
    ")"
   ]
  },
  {
   "cell_type": "code",
   "execution_count": 16,
   "id": "b77e417a",
   "metadata": {},
   "outputs": [],
   "source": [
    "# Define state for application\n",
    "class State(TypedDict):\n",
    "    question: str\n",
    "    context: List[Document]\n",
    "    answer: str\n",
    "    \n",
    "# Define application steps\n",
    "def retrieve(state: State):\n",
    "    \"\"\"Retrieve relevant documents based on the question.\"\"\"\n",
    "    retrieved_docs = vector_store.similarity_search(\n",
    "        state[\"question\"]\n",
    "        )\n",
    "\n",
    "    return {\"context\": retrieved_docs}\n",
    "\n",
    "def generate(state: State):\n",
    "    \"\"\"Generate an answer based on the question and context.\"\"\"\n",
    "    docs_content = \"\\n\\n\".join(doc.page_content for doc in state[\"context\"])\n",
    "    messages = prompt.invoke(\n",
    "        {\n",
    "            \"question\": state[\"question\"],\n",
    "            \"context\": docs_content\n",
    "        }\n",
    "    )\n",
    "    \n",
    "    response = llm.invoke(messages)\n",
    "\n",
    "    return {\"answer\": response.content}"
   ]
  },
  {
   "cell_type": "markdown",
   "id": "58e1c5d1",
   "metadata": {},
   "source": [
    "## Build Graph"
   ]
  },
  {
   "cell_type": "code",
   "execution_count": 64,
   "id": "5f7c5e98",
   "metadata": {},
   "outputs": [
    {
     "ename": "NameError",
     "evalue": "name 'State' is not defined",
     "output_type": "error",
     "traceback": [
      "\u001b[31m---------------------------------------------------------------------------\u001b[39m",
      "\u001b[31mNameError\u001b[39m                                 Traceback (most recent call last)",
      "\u001b[36mCell\u001b[39m\u001b[36m \u001b[39m\u001b[32mIn[64]\u001b[39m\u001b[32m, line 3\u001b[39m\n\u001b[32m      1\u001b[39m \u001b[38;5;66;03m# Compile and test\u001b[39;00m\n\u001b[32m----> \u001b[39m\u001b[32m3\u001b[39m graph_builder = StateGraph(\u001b[43mState\u001b[49m).add_sequence([retrieve, generate])\n\u001b[32m      4\u001b[39m graph_builder.add_edge(START, \u001b[33m\"\u001b[39m\u001b[33mretrieve\u001b[39m\u001b[33m\"\u001b[39m)\n\u001b[32m      5\u001b[39m graph = graph_builder.compile()\n",
      "\u001b[31mNameError\u001b[39m: name 'State' is not defined"
     ]
    }
   ],
   "source": [
    "# Compile and test\n",
    "\n",
    "graph_builder = StateGraph(State).add_sequence([retrieve, generate])\n",
    "graph_builder.add_edge(START, \"retrieve\")\n",
    "graph = graph_builder.compile()"
   ]
  },
  {
   "cell_type": "code",
   "execution_count": 18,
   "id": "7e7bdbe8",
   "metadata": {},
   "outputs": [
    {
     "name": "stdout",
     "output_type": "stream",
     "text": [
      "Chapter 1, titled \"Down the Rabbit-Hole,\" begins with Alice feeling bored and tired of sitting by her sister. She encounters a White Rabbit with pink eyes and decides to follow it. The rabbit disappears down a large rabbit-hole, and Alice, driven by curiosity, follows it. She falls down a long, deep well and eventually lands in a hall. Alice then finds a small golden key and unlocks a door that leads to a beautiful garden.\n"
     ]
    }
   ],
   "source": [
    "response = graph.invoke({\"question\": \"Summarise Chapter 1 of Alice's Adventures in Wonderland?\"})\n",
    "print(response[\"answer\"])"
   ]
  },
  {
   "cell_type": "markdown",
   "id": "eecbf334",
   "metadata": {},
   "source": [
    "## Making it a conversation instead of a single question\n",
    "Now we try to make it conversible"
   ]
  },
  {
   "cell_type": "code",
   "execution_count": 75,
   "id": "6886ff9f",
   "metadata": {},
   "outputs": [],
   "source": [
    "from langgraph.graph import MessagesState, StateGraph\n",
    "\n",
    "graph_builder = StateGraph(MessagesState)"
   ]
  },
  {
   "cell_type": "markdown",
   "id": "62d3f470",
   "metadata": {},
   "source": [
    "See this guide on how to make tools \n",
    "https://python.langchain.com/docs/how_to/custom_tools/"
   ]
  },
  {
   "cell_type": "code",
   "execution_count": 76,
   "id": "2f8977f4",
   "metadata": {},
   "outputs": [],
   "source": [
    "from langchain_core.tools import tool\n",
    "\n",
    "\n",
    "@tool(response_format=\"content_and_artifact\")\n",
    "def retrieve(query: str):\n",
    "    \"\"\"Retrieve information related to a query.\"\"\"\n",
    "    retrieved_docs = vector_store.similarity_search(query, k=2)\n",
    "    serialized = \"\\n\\n\".join(\n",
    "        (f\"Source: {doc.metadata}\\nContent: {doc.page_content}\")\n",
    "        for doc in retrieved_docs\n",
    "    )\n",
    "    print(f\"Retrieved {retrieved_docs}\")\n",
    "    return serialized, retrieved_docs"
   ]
  },
  {
   "cell_type": "markdown",
   "id": "41367351",
   "metadata": {},
   "source": [
    "## LangGraph RAG\n",
    "Now we redo the graph to accomodate a tool workflow"
   ]
  },
  {
   "cell_type": "code",
   "execution_count": 77,
   "id": "b7147597",
   "metadata": {},
   "outputs": [],
   "source": [
    "from langchain_core.messages import SystemMessage\n",
    "from langgraph.prebuilt import ToolNode\n",
    "\n",
    "\n",
    "# Step 1: Generate an AIMessage that may include a tool-call to be sent.\n",
    "def query_or_respond(state: MessagesState):\n",
    "    \"\"\"Generate tool call for retrieval or respond.\"\"\"\n",
    "    llm_with_tools = llm.bind_tools([retrieve])\n",
    "    response = llm_with_tools.invoke(state[\"messages\"])\n",
    "    # MessagesState appends messages to state instead of overwriting\n",
    "    return {\"messages\": [response]}\n",
    "\n",
    "\n",
    "# Step 2: Execute the retrieval.\n",
    "tools = ToolNode([retrieve])\n",
    "\n",
    "\n",
    "# Step 3: Generate a response using the retrieved content.\n",
    "def generate(state: MessagesState):\n",
    "    \"\"\"Generate answer.\"\"\"\n",
    "    # Get generated ToolMessages\n",
    "    recent_tool_messages = []\n",
    "    for message in reversed(state[\"messages\"]):\n",
    "        if message.type == \"tool\":\n",
    "            recent_tool_messages.append(message)\n",
    "        else:\n",
    "            break\n",
    "    tool_messages = recent_tool_messages[::-1]\n",
    "\n",
    "    # Format into prompt\n",
    "    docs_content = \"\\n\\n\".join(doc.content for doc in tool_messages)\n",
    "    system_message_content = (\n",
    "        \"You are an assistant for question-answering tasks. \"\n",
    "        \"Use the following pieces of retrieved context to answer \"\n",
    "        \"the question. If you don't know the answer, say that you \"\n",
    "        \"don't know. You can use your tools as many times as you want and need to complete the task.\"\n",
    "        \"\\n\\n\"\n",
    "        f\"{docs_content}\"\n",
    "    )\n",
    "    conversation_messages = [\n",
    "        message\n",
    "        for message in state[\"messages\"]\n",
    "        if message.type in (\"human\", \"system\")\n",
    "        or (message.type == \"ai\" and not message.tool_calls)\n",
    "    ]\n",
    "    prompt = [SystemMessage(system_message_content)] + conversation_messages\n",
    "\n",
    "    # Run\n",
    "    response = llm.invoke(prompt)\n",
    "    return {\"messages\": [response]}"
   ]
  },
  {
   "cell_type": "code",
   "execution_count": 78,
   "id": "69d348af",
   "metadata": {},
   "outputs": [],
   "source": [
    "from langgraph.graph import END\n",
    "from langgraph.prebuilt import ToolNode, tools_condition\n",
    "\n",
    "graph_builder.add_node(query_or_respond)\n",
    "graph_builder.add_node(tools)\n",
    "graph_builder.add_node(generate)\n",
    "\n",
    "graph_builder.set_entry_point(\"query_or_respond\")\n",
    "graph_builder.add_conditional_edges(\n",
    "    \"query_or_respond\",\n",
    "    tools_condition,\n",
    "    {END: END, \"tools\": \"tools\"},\n",
    ")\n",
    "graph_builder.add_edge(\"tools\", \"generate\")\n",
    "graph_builder.add_edge(\"generate\", END)\n",
    "\n",
    "graph = graph_builder.compile()"
   ]
  },
  {
   "cell_type": "code",
   "execution_count": 79,
   "id": "18ae05a9",
   "metadata": {},
   "outputs": [
    {
     "data": {
      "image/png": "[encoded data removed]",
      "text/plain": [
       "<IPython.core.display.Image object>"
      ]
     },
     "metadata": {},
     "output_type": "display_data"
    }
   ],
   "source": [
    "from IPython.display import Image, display\n",
    "\n",
    "display(Image(graph.get_graph().draw_mermaid_png()))"
   ]
  },
  {
   "cell_type": "code",
   "execution_count": 57,
   "id": "652c62f3",
   "metadata": {},
   "outputs": [
    {
     "name": "stdout",
     "output_type": "stream",
     "text": [
      "================================\u001b[1m Human Message \u001b[0m=================================\n",
      "\n",
      "Hello\n",
      "==================================\u001b[1m Ai Message \u001b[0m==================================\n",
      "\n",
      "Hello! How can I help you today?\n"
     ]
    }
   ],
   "source": [
    "input_message = \"Hello\"\n",
    "\n",
    "for step in graph.stream(\n",
    "    {\"messages\": [{\"role\": \"user\", \"content\": input_message}]},\n",
    "    stream_mode=\"values\",\n",
    "):\n",
    "    step[\"messages\"][-1].pretty_print()"
   ]
  },
  {
   "cell_type": "code",
   "execution_count": 36,
   "id": "23f9dedc",
   "metadata": {},
   "outputs": [
    {
     "name": "stdout",
     "output_type": "stream",
     "text": [
      "================================\u001b[1m Human Message \u001b[0m=================================\n",
      "\n",
      "What is a loopagent?\n",
      "==================================\u001b[1m Ai Message \u001b[0m==================================\n",
      "Tool Calls:\n",
      "  retrieve (ce4d3553-3fbc-441d-b40f-e2245ba203f5)\n",
      " Call ID: ce4d3553-3fbc-441d-b40f-e2245ba203f5\n",
      "  Args:\n",
      "    query: loopagent\n",
      "Retrieved []\n",
      "=================================\u001b[1m Tool Message \u001b[0m=================================\n",
      "Name: retrieve\n",
      "\n",
      "\n",
      "==================================\u001b[1m Ai Message \u001b[0m==================================\n",
      "\n",
      "A loopagent is a type of artificial intelligence that can perform tasks in a continuous cycle or \"loop.\" These agents are designed to repeatedly execute a set of actions until a specific condition is met or indefinitely. They are often used in simulations, process automation, and game development.\n"
     ]
    }
   ],
   "source": [
    "input_message = \"What is a loopagent?\"\n",
    "\n",
    "for step in graph.stream(\n",
    "    {\"messages\": [{\"role\": \"user\", \"content\": input_message}]},\n",
    "    stream_mode=\"values\",\n",
    "):\n",
    "    step[\"messages\"][-1].pretty_print()"
   ]
  },
  {
   "cell_type": "markdown",
   "id": "940db42a",
   "metadata": {},
   "source": [
    "# State Management of LangGraph"
   ]
  },
  {
   "cell_type": "code",
   "execution_count": 80,
   "id": "b0547509",
   "metadata": {},
   "outputs": [],
   "source": [
    "from langgraph.checkpoint.memory import MemorySaver\n",
    "\n",
    "memory = MemorySaver()\n",
    "graph = graph_builder.compile(checkpointer=memory)\n",
    "\n",
    "# Specify an ID for the thread\n",
    "config = {\"configurable\": {\"thread_id\": \"abc123\"}}"
   ]
  },
  {
   "cell_type": "code",
   "execution_count": 71,
   "id": "ec5072a3",
   "metadata": {},
   "outputs": [
    {
     "name": "stdout",
     "output_type": "stream",
     "text": [
      "================================\u001b[1m Human Message \u001b[0m=================================\n",
      "\n",
      "What is Task Decomposition?\n",
      "==================================\u001b[1m Ai Message \u001b[0m==================================\n",
      "Tool Calls:\n",
      "  retrieve (d5f67878-3daa-479d-b5c0-a5dc86ce1523)\n",
      " Call ID: d5f67878-3daa-479d-b5c0-a5dc86ce1523\n",
      "  Args:\n",
      "    query: Task Decomposition\n",
      "Retrieved [Document(id='e720cbb1-c11f-4c59-a59e-a93c4e5f9b89', metadata={'source': './texts/cloud-design-patterns.txt'}, page_content='Intent .................................................................................................................................................... 49\\n    Motivation ............................................................................................................................................ 49\\n    Applicability .......................................................................................................................................... 49\\n    Issues and considerations .................................................................................................................... 49\\n    Implementation .................................................................................................................................... 50\\n        High-level architecture .................................................................................................................... 50'), Document(id='0e95a2e2-e74d-4e1d-87dc-cd66405547f5', metadata={'source': './texts/cloud-design-patterns.txt'}, page_content='Saga orchestration ............................................................................................................................... 60\\n        Intent ............................................................................................................................................... 60\\n        Motivation ....................................................................................................................................... 60\\n        Applicability ..................................................................................................................................... 61\\n        Issues and considerations ............................................................................................................... 61\\n        Implementation ............................................................................................................................... 62')]\n",
      "=================================\u001b[1m Tool Message \u001b[0m=================================\n",
      "Name: retrieve\n",
      "\n",
      "Source: {'source': './texts/cloud-design-patterns.txt'}\n",
      "Content: Intent .................................................................................................................................................... 49\n",
      "    Motivation ............................................................................................................................................ 49\n",
      "    Applicability .......................................................................................................................................... 49\n",
      "    Issues and considerations .................................................................................................................... 49\n",
      "    Implementation .................................................................................................................................... 50\n",
      "        High-level architecture .................................................................................................................... 50\n",
      "\n",
      "Source: {'source': './texts/cloud-design-patterns.txt'}\n",
      "Content: Saga orchestration ............................................................................................................................... 60\n",
      "        Intent ............................................................................................................................................... 60\n",
      "        Motivation ....................................................................................................................................... 60\n",
      "        Applicability ..................................................................................................................................... 61\n",
      "        Issues and considerations ............................................................................................................... 61\n",
      "        Implementation ............................................................................................................................... 62\n",
      "==================================\u001b[1m Ai Message \u001b[0m==================================\n",
      "\n",
      "I am sorry, but I cannot find any information about \"Task Decomposition\" in the provided text.\n"
     ]
    }
   ],
   "source": [
    "input_message = \"What is Task Decomposition?\"\n",
    "\n",
    "for step in graph.stream(\n",
    "    {\"messages\": [{\"role\": \"user\", \"content\": input_message}]},\n",
    "    stream_mode=\"values\",\n",
    "    config=config,\n",
    "):\n",
    "    step[\"messages\"][-1].pretty_print()"
   ]
  },
  {
   "cell_type": "markdown",
   "id": "95b43f93",
   "metadata": {},
   "source": [
    "## Note\n",
    "This following code if re run will use the same thread memory. So it can reference prior message context."
   ]
  },
  {
   "cell_type": "code",
   "execution_count": 39,
   "id": "8d8d5e12",
   "metadata": {},
   "outputs": [
    {
     "name": "stdout",
     "output_type": "stream",
     "text": [
      "================================\u001b[1m Human Message \u001b[0m=================================\n",
      "\n",
      "What have we talked about?\n",
      "==================================\u001b[1m Ai Message \u001b[0m==================================\n",
      "\n",
      "We have discussed Task Decomposition. I explained that it's the process of breaking down large, complex tasks into smaller, more manageable subtasks to simplify the overall objective, making it easier to plan, execute, and monitor progress.\n"
     ]
    }
   ],
   "source": [
    "input_message = \"What have we talked about?\"\n",
    "\n",
    "for step in graph.stream(\n",
    "    {\"messages\": [{\"role\": \"user\", \"content\": input_message}]},\n",
    "    stream_mode=\"values\",\n",
    "    config=config,\n",
    "):\n",
    "    step[\"messages\"][-1].pretty_print()"
   ]
  },
  {
   "cell_type": "markdown",
   "id": "9afb6914",
   "metadata": {},
   "source": [
    "# Attempting Agentic Version"
   ]
  },
  {
   "cell_type": "code",
   "execution_count": 81,
   "id": "6f9eb584",
   "metadata": {},
   "outputs": [],
   "source": [
    "from langgraph.prebuilt import create_react_agent\n",
    "\n",
    "agent_executor = create_react_agent(llm, [retrieve], checkpointer=memory)"
   ]
  },
  {
   "cell_type": "code",
   "execution_count": 82,
   "id": "ae5bfe54",
   "metadata": {},
   "outputs": [
    {
     "data": {
      "image/png": "[encoded data removed]",
      "text/plain": [
       "<IPython.core.display.Image object>"
      ]
     },
     "metadata": {},
     "output_type": "display_data"
    }
   ],
   "source": [
    "display(Image(agent_executor.get_graph().draw_mermaid_png()))"
   ]
  },
  {
   "cell_type": "code",
   "execution_count": 83,
   "id": "bac0fd3a",
   "metadata": {},
   "outputs": [
    {
     "name": "stdout",
     "output_type": "stream",
     "text": [
      "================================\u001b[1m Human Message \u001b[0m=================================\n",
      "\n",
      "List all the cloud design patterns\n",
      "\n",
      "\n",
      "==================================\u001b[1m Ai Message \u001b[0m==================================\n",
      "Tool Calls:\n",
      "  retrieve (8832a703-aaa8-4406-b5be-f82925b511a0)\n",
      " Call ID: 8832a703-aaa8-4406-b5be-f82925b511a0\n",
      "  Args:\n",
      "    query: cloud design patterns\n",
      "Retrieved [Document(id='d5defab3-ec03-44d6-8636-40c25e379c56', metadata={'source': './texts/cloud-design-patterns.txt'}, page_content='This guide provides a technical reference for cloud architects, technical leads, application and business owners, and developers who want to choose the right cloud architecture for design patterns based on well-architected best practices. Each pattern discussed in this guide addresses one or more known scenarios in microservices architectures. The guide discusses the issues and considerations associated with each pattern, provides a high-level architectural implementation, and describes the AWS implementation for the pattern. Open source GitHub samples and workshop links are provided where available.  \\n\\nThe guide covers the following patterns:'), Document(id='a77a8a7a-2e08-42f8-a532-454440cdd945', metadata={'source': './texts/cloud-design-patterns.txt'}, page_content='Cloud design patterns, architectures, and implementations  \\nAnitha Deenadayalan, Amazon Web Services (AWS)  \\n\\nMay 2024 (document history)  \\n\\nThis guide provides guidance for implementing commonly used modernization design patterns by using AWS services. An increasing number of modern applications are designed by using microservices architectures to achieve scalability, improve release velocity, reduce the scope of impact for changes, and reduce regression. This leads to improved developer productivity and increased agility, better innovation, and an increased focus on business needs. Microservices architectures also support the use of the best technology for the service and the database, and promote polyglot code and polyglot persistence.')]\n",
      "=================================\u001b[1m Tool Message \u001b[0m=================================\n",
      "Name: retrieve\n",
      "\n",
      "Source: {'source': './texts/cloud-design-patterns.txt'}\n",
      "Content: This guide provides a technical reference for cloud architects, technical leads, application and business owners, and developers who want to choose the right cloud architecture for design patterns based on well-architected best practices. Each pattern discussed in this guide addresses one or more known scenarios in microservices architectures. The guide discusses the issues and considerations associated with each pattern, provides a high-level architectural implementation, and describes the AWS implementation for the pattern. Open source GitHub samples and workshop links are provided where available.  \n",
      "\n",
      "The guide covers the following patterns:\n",
      "\n",
      "Source: {'source': './texts/cloud-design-patterns.txt'}\n",
      "Content: Cloud design patterns, architectures, and implementations  \n",
      "Anitha Deenadayalan, Amazon Web Services (AWS)  \n",
      "\n",
      "May 2024 (document history)  \n",
      "\n",
      "This guide provides guidance for implementing commonly used modernization design patterns by using AWS services. An increasing number of modern applications are designed by using microservices architectures to achieve scalability, improve release velocity, reduce the scope of impact for changes, and reduce regression. This leads to improved developer productivity and increased agility, better innovation, and an increased focus on business needs. Microservices architectures also support the use of the best technology for the service and the database, and promote polyglot code and polyglot persistence.\n",
      "==================================\u001b[1m Ai Message \u001b[0m==================================\n",
      "\n",
      "The provided text mentions that the guide covers cloud design patterns, but it does not list them. It emphasizes the benefits of microservices architectures and how the guide helps in implementing modernization design patterns using AWS services. To get a list of the patterns, I would need a more detailed description or a different source.\n"
     ]
    }
   ],
   "source": [
    "config = {\"configurable\": {\"thread_id\": \"def12\"}}\n",
    "\n",
    "input_message = (\n",
    "    \"List all the cloud design patterns\\n\\n\"\n",
    ")\n",
    "\n",
    "for event in agent_executor.stream(\n",
    "    {\"messages\": [{\"role\": \"user\", \"content\": input_message}]},\n",
    "    stream_mode=\"values\",\n",
    "    config=config,\n",
    "):\n",
    "    event[\"messages\"][-1].pretty_print()"
   ]
  },
  {
   "cell_type": "code",
   "execution_count": null,
   "id": "b81e9b30",
   "metadata": {},
   "outputs": [],
   "source": []
  },
  {
   "cell_type": "markdown",
   "id": "2f52afa9",
   "metadata": {},
   "source": [
    "# DO NOT RUN \n",
    "## This is for testing use code only\n",
    "Code to find and delete items"
   ]
  },
  {
   "cell_type": "code",
   "execution_count": null,
   "id": "82ad51e4",
   "metadata": {},
   "outputs": [],
   "source": [
    "items = vector_store.get(where={\"source\": \"./texts/Alive's Adventures in Wonderland.txt\"})  # Get all ids in the vector store\n",
    "vector_store.delete(ids=items.get(\"ids\", []))  # Delete the items from the vector store\n",
    "\n",
    "items = vector_store.get(where={\"source\": \"./texts/Alice's Adventures in Wonderland.txt\"})  # Get all ids in the vector store\n",
    "print(f\"Number of existing docs: {len(items.get('ids', []))}\")"
   ]
  }
 ],
 "metadata": {
  "kernelspec": {
   "display_name": "RAG",
   "language": "python",
   "name": "python3"
  },
  "language_info": {
   "codemirror_mode": {
    "name": "ipython",
    "version": 3
   },
   "file_extension": ".py",
   "mimetype": "text/x-python",
   "name": "python",
   "nbconvert_exporter": "python",
   "pygments_lexer": "ipython3",
   "version": "3.12.9"
  }
 },
 "nbformat": 4,
 "nbformat_minor": 5
}
